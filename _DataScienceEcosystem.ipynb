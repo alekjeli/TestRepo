{
  "metadata": {
    "kernelspec": {
      "name": "python",
      "display_name": "Python (Pyodide)",
      "language": "python"
    },
    "language_info": {
      "codemirror_mode": {
        "name": "python",
        "version": 3
      },
      "file_extension": ".py",
      "mimetype": "text/x-python",
      "name": "python",
      "nbconvert_exporter": "python",
      "pygments_lexer": "ipython3",
      "version": "3.8"
    }
  },
  "nbformat_minor": 5,
  "nbformat": 4,
  "cells": [
    {
      "id": "a3de6a45-8049-4e3d-b977-ea316b228f7a",
      "cell_type": "markdown",
      "source": "# Data Science Tools and Ecosystem",
      "metadata": {}
    },
    {
      "id": "33613cc4-b917-4d2a-9bdb-392ab3e2c125",
      "cell_type": "markdown",
      "source": "In this notebook, Data Science Tools and Ecosystem are summarized.\n",
      "metadata": {}
    },
    {
      "id": "be7d0c6d-0251-47a2-a101-5bc98f6481c0",
      "cell_type": "markdown",
      "source": "Some of the popular languages that Data Scientists use are:\n1. Python\n2. R\n3. SQL",
      "metadata": {}
    },
    {
      "id": "af7546e2-ed26-4781-a851-527cda8ddde2",
      "cell_type": "markdown",
      "source": "**Objectives:**\n- List popular languages for Data Science\n- Learning to format text using Markdown syntax.\n- Share Jupyter Notebooks via GitHub\n- Adding code examples and comments within a notebook.",
      "metadata": {}
    },
    {
      "id": "e6007c99-b95a-47a6-8885-ba01918becd9",
      "cell_type": "markdown",
      "source": "Some of the commonly used libraries used by Data Scientists include:\n1. Pandas\n2. NumPy\n3. Matplotlib",
      "metadata": {}
    },
    {
      "id": "d3b028d8-4687-42fb-a273-d0974a6cdf4c",
      "cell_type": "markdown",
      "source": "| Data Science Tools|\n|-------------------|\n|Jupyter Notebook   |\n|RStudio            |\n|Apache Zeppelin    |",
      "metadata": {}
    },
    {
      "id": "98468f7d-4629-49a6-bd28-a86a38063cc7",
      "cell_type": "markdown",
      "source": "### Below are a few examples of evaluating arithmetic expressions in Python",
      "metadata": {}
    },
    {
      "id": "aeb8e543-70f1-4cc0-a792-02e1d3d585b1",
      "cell_type": "code",
      "source": "# This a simple arithmetic expression to mutiply then add integers\n(3*4)+5",
      "metadata": {
        "trusted": true
      },
      "outputs": [
        {
          "execution_count": 5,
          "output_type": "execute_result",
          "data": {
            "text/plain": "17"
          },
          "metadata": {}
        }
      ],
      "execution_count": 5
    },
    {
      "id": "76396d0e-36a2-4aff-ba3f-f8960b1ce750",
      "cell_type": "code",
      "source": "#This will convert 200 minutes to hours by diving by 60\n200/60",
      "metadata": {
        "trusted": true
      },
      "outputs": [
        {
          "execution_count": 6,
          "output_type": "execute_result",
          "data": {
            "text/plain": "3.3333333333333335"
          },
          "metadata": {}
        }
      ],
      "execution_count": 6
    },
    {
      "id": "56d1a1db-d390-41ef-9405-9e1a9c44db19",
      "cell_type": "markdown",
      "source": "## Author\nJelisaveta Aleksic",
      "metadata": {}
    },
    {
      "id": "ebb35ed8-9bbc-4fe5-852b-f8d04e602411",
      "cell_type": "code",
      "source": "",
      "metadata": {
        "trusted": true
      },
      "outputs": [],
      "execution_count": null
    }
  ]
}